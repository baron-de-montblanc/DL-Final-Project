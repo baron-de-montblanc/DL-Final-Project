{
 "cells": [
  {
   "cell_type": "markdown",
   "metadata": {},
   "source": [
    "# Transfer Learning for Jet Tagging in Particle Physics: FCNN\n",
    "\n",
    "This is the first accompanying notebook for our final project for the CSCI 2470: Deep Learning course. Here, we will present appropriate visualizations of our input data, build and train our models, and present appropriate visualizations of the outputs and results.\n",
    "\n",
    "*Authors: Jade Ducharme, Egor Serebriakov, Aditya Singh, Anthony Wong*"
   ]
  },
  {
   "cell_type": "markdown",
   "metadata": {},
   "source": [
    "## Background\n",
    "\n",
    "Particle accelerator experiments at CERN produce massive amounts of data which non-ML analysis methods struggle to keep up with. A subset of these experiments concerns particle jets, which are streams of secondary particles created during the high energy collision of primary particles. Given a particle jet, we wish to rapidly identify the primary particles responsible for the jet in order to determine whether the experiment should be kept for further analysis.\n",
    "\n",
    "Datastreams produced by these experiments contain \"high-quality\" information that would require massive amounts of memory to store. Our goal is then the following: can we train a \"student\" Neural Network to take in reduced, \"low-quality\" jet data and predict the primary particles that initiated the jet with the same accuracy as a \"teacher\" model trained on high-quality jet data? More simply, we will be performing a binary classification task to see whether our model can predict if the jet was initiated by a Top Quark ```label: 1``` or a \"background\" particle ```label: 0```.\n",
    "\n",
    "Our code makes use of the [ATLAS Top Tagging Open Data Set](https://opendata.cern.ch/record/15013), a set of simulated jet events created by the ATLAS Collaboration."
   ]
  },
  {
   "cell_type": "code",
   "execution_count": 1,
   "metadata": {},
   "outputs": [],
   "source": [
    "import numpy as np\n",
    "import pandas as pd\n",
    "import matplotlib.pyplot as plt\n",
    "import torch\n",
    "import torchmetrics\n",
    "import torch.optim as optim\n",
    "from torch.utils.data import DataLoader\n",
    "import torch.nn as nn\n",
    "import seaborn as sns\n",
    "import time\n",
    "from preprocess import *\n",
    "from helper import *\n",
    "from visualize import *\n",
    "\n",
    "import warnings\n",
    "warnings.filterwarnings('ignore')  # pesky divide-by-zero errors\n",
    "\n",
    "sns.set_theme()\n",
    "plt.style.use(\"seaborn-v0_8\")"
   ]
  },
  {
   "cell_type": "code",
   "execution_count": 2,
   "metadata": {},
   "outputs": [],
   "source": [
    "# Initialize some global hyperparameters\n",
    "\n",
    "NH = 5  # number of hidden layers for the full (teacher) model: 5\n",
    "STUDENT_NH = 1  # number of hidden layers for the lite (student) model: 1\n",
    "NE = 35  # number of epochs\n",
    "LR = 1.2e-5  # learning rate: 1.2e-5\n",
    "BATCH_SZ = 250  # batch size: 250\n",
    "MAX_ITEMS = 500000  # maximum number of elements to consider (input size): 3,000,000\n",
    "MAX_CONSTITS = 80  # maximum number of constituent elements per jet: 80\n",
    "\n",
    "# REDUCED_CONSTITS = 80  # number of constituent elements for the Student network to consider: 40\n",
    "# NOISE_STD = 5e3  # noise standard deviation for the diffusion: 5e3\n",
    "# DIFFUSE_AXES = ['fjet_clus_E', 'fjet_clus_pt']  # Which axis/axes to apply diffusion to\n",
    "\n",
    "ALPHA = 0.5  # alpha parameter for knowledge transfer: 0.8\n",
    "TEMP = 2.0  # temperature parameter for knowledge transfer: 2.0"
   ]
  },
  {
   "cell_type": "markdown",
   "metadata": {},
   "source": [
    "#### Input Data Visualization\n",
    "\n",
    "As a very first step, let's load in our data to see what it looks like. Our data has three attributes: \"jet\", \"constituents\", and \"high-level\" information about each jet. The jet attribute stores information about the *entire* jet: for example, the jet's mass and momentum. Meanwhile, the constituent attribute stores information about *each individual* particle that compose the jet: each particle's mass and momentum, for example. Finally, the high-level attribute stores variables \"chosen in two separate studies of high level quantity based top taggers carried out by the ATLAS collaboration\" (from the [reference manual](https://gitlab.cern.ch/atlas/ATLAS-top-tagging-open-data/-/tree/master?ref_type=heads)). These high-level variables aren't super important, and we instead wish to train our model on the constituent attributes, which provide the most information to identify our jets."
   ]
  },
  {
   "cell_type": "code",
   "execution_count": 3,
   "metadata": {},
   "outputs": [
    {
     "name": "stdout",
     "output_type": "stream",
     "text": [
      "---------- Constituent-level data ----------------\n",
      "Data shape [input_size, num_constituents, num_features]: (500000, 200, 4)\n",
      "Feature names: ['constituent transverse momentum', 'constituent pseudo-rapidity', 'constituent azimuthal angle', 'constituent energy']\n"
     ]
    }
   ],
   "source": [
    "# jet_data, jet_labels, jet_weights, jet_features = get_data(\n",
    "#     \"./data/reduced_atlas_dataset.h5\", \n",
    "#     attribute=\"jet\",\n",
    "# )\n",
    "\n",
    "teacher_data, teacher_labels, teacher_weights, teacher_features = get_data(\n",
    "    \"./data/train.h5\", \n",
    "    attribute=\"constituents\",\n",
    "    max_items=MAX_ITEMS,\n",
    "    who = \"Teacher\",\n",
    ")\n",
    "\n",
    "# To avoid contamination, the student data is independent of the teacher data\n",
    "student_data, student_labels, student_weights, student_features = get_data(\n",
    "    \"./data/train.h5\", \n",
    "    attribute=\"constituents\",\n",
    "    max_items=MAX_ITEMS,\n",
    "    who = \"Student\",\n",
    ")\n",
    "\n",
    "# print(\"---------- Jet-level data ----------------\")\n",
    "# print(\"Data shape [input_size, num_features]:\", jet_data.shape)\n",
    "# print(\"Feature names:\", [human_feature(f) for f in jet_features],\"\\n\")\n",
    "\n",
    "print(\"---------- Constituent-level data ----------------\")\n",
    "print(\"Data shape [input_size, num_constituents, num_features]:\", teacher_data.shape)\n",
    "print(\"Feature names:\", [human_feature(f) for f in teacher_features])"
   ]
  },
  {
   "cell_type": "markdown",
   "metadata": {},
   "source": [
    "As we can see, our features contain some important information about the jets: mass, energy, momentum, etc. We can visualize these features in a histogram:"
   ]
  },
  {
   "cell_type": "code",
   "execution_count": 4,
   "metadata": {},
   "outputs": [],
   "source": [
    "# plot_1D_distributions(jet_data, jet_labels, jet_features, nbins=40, transparent=False, \n",
    "#                       # save_path=\"./jet_distribution.png\",\n",
    "#                       )"
   ]
  },
  {
   "cell_type": "markdown",
   "metadata": {},
   "source": [
    "This histogram shows the distribution of jet mass, pseudo-rapidity, azimuthal angle, and energy by label. The human eye can clearly distinguish some patterns here! Now, let's see what the constituents' histograms look like:"
   ]
  },
  {
   "cell_type": "code",
   "execution_count": 5,
   "metadata": {
    "scrolled": false
   },
   "outputs": [],
   "source": [
    "# plot_1D_distributions(cons_data, cons_labels, cons_features, nbins=50, transparent=False, \n",
    "#                       # save_path=\"./constituent_distribution.png\",\n",
    "#                       )"
   ]
  },
  {
   "cell_type": "markdown",
   "metadata": {},
   "source": [
    "At the constituent level, it is much harder (even for the human eye) to distinguish the signal curve from the background curve. Let's hope a neural network can help us with this!"
   ]
  },
  {
   "cell_type": "markdown",
   "metadata": {},
   "source": [
    "### Preprocessing\n",
    "\n",
    "The raw constituent-level data is unsuitable for training a deep neural network. First, the dynamic range in the energy and momentum needs to be accounted for. Next, the $\\eta$ and $\\phi$ don't contribute much information in their raw state, and must be transformed using the physically appropriate equations. This is done via the ```preprocess.consituent_preprocess``` function, adapted directly from the ATLAS collaboration."
   ]
  },
  {
   "cell_type": "code",
   "execution_count": 6,
   "metadata": {},
   "outputs": [],
   "source": [
    "# # First, split the teacher data in half -- half HQ data, half LQ data\n",
    "# teacher_hq = teacher_data[:int(MAX_ITEMS/2)]\n",
    "# teacher_lq = teacher_data[int(MAX_ITEMS/2):]\n",
    "\n",
    "# # Pass the teacher_lq array throught the same data degradation steps as the student's data will be\n",
    "# teacher_lq = diffuse(teacher_lq, teacher_features, noise_std=NOISE_STD, \n",
    "#                              apply_features=DIFFUSE_AXES,\n",
    "#                             )\n",
    "\n",
    "# # Preprocess LQ data\n",
    "# teacher_lq, _ = constituent_preprocess(teacher_lq, teacher_features, max_constits=REDUCED_CONSTITS)\n",
    "# teacher_lq = add_constits(teacher_lq, target_shape=MAX_CONSTITS)  # padding\n",
    "\n",
    "# # Preprocess HQ data\n",
    "# teacher_hq, _ = constituent_preprocess(teacher_hq, teacher_features, max_constits=REDUCED_CONSTITS)\n",
    "\n",
    "# # Finally, stitch them pack together\n",
    "# teacher_data = np.concatenate((teacher_hq, teacher_lq))\n",
    "\n",
    "# print(\"Preprocessed teacher data shape:\", teacher_data.shape)\n",
    "# print(\"Preprocessed features:\", teacher_features)\n"
   ]
  },
  {
   "cell_type": "code",
   "execution_count": 7,
   "metadata": {},
   "outputs": [],
   "source": [
    "teacher_data, _ = constituent_preprocess(teacher_data, teacher_features, max_constits=MAX_CONSTITS)\n",
    "student_data, _ = constituent_preprocess(student_data, student_features, max_constits=MAX_CONSTITS)"
   ]
  },
  {
   "cell_type": "markdown",
   "metadata": {},
   "source": [
    "Might as well try to visualize our new features!"
   ]
  },
  {
   "cell_type": "code",
   "execution_count": 8,
   "metadata": {},
   "outputs": [],
   "source": [
    "# plot_preprocessed_1D_distributions(pre_cons_data, cons_labels, pre_cons_features, nbins=40)"
   ]
  },
  {
   "cell_type": "markdown",
   "metadata": {},
   "source": [
    "It's getting a little abstract, but the main point is that these modified features should help our network perform better!"
   ]
  },
  {
   "cell_type": "markdown",
   "metadata": {},
   "source": [
    "### Stage 1: Transfer Learning via FCNN\n",
    "\n",
    "As a first step, we would like to ensure that we understand how to implement transfer learning. For this purpose, we will train a simple Teacher FCNN on the high quality ATLAS dataset. Next, we will downgrade this data via diffusion and downsampling, transfer knowledge from the Teacher to the Student FCCN, and train this Student on the lower quality data. We will then compare their performances."
   ]
  },
  {
   "cell_type": "markdown",
   "metadata": {},
   "source": [
    "First, we will train the Teacher FCNN on constituent-level data. For this purpose, we define the training loop function (in the notebook since it uses a lot of Global parameters)"
   ]
  },
  {
   "cell_type": "code",
   "execution_count": 9,
   "metadata": {},
   "outputs": [],
   "source": [
    "from model import run_model, train_with_distillation\n",
    "\n",
    "def training_loop(model, device, data, labels, weights, \n",
    "                  plot_confusion=False, teacher_model=None, alpha=ALPHA, temp=TEMP):\n",
    "    \"\"\"\n",
    "    Run the whole training loop on the model given data, labels, and weights\n",
    "\n",
    "    References a lot of global parameters\n",
    "    \"\"\"\n",
    "    model.to(device)\n",
    "    criterion = torch.nn.CrossEntropyLoss(reduction='none')  \n",
    "    optimizer = optim.Adam(model.parameters(), lr=LR)\n",
    "\n",
    "    # Data preparation\n",
    "    train_set, val_set, test_set = standardize_split(data, labels, weights, train_split=0.7, val_split=0.15)\n",
    "    train_loader = DataLoader(train_set, batch_size=BATCH_SZ, shuffle=True)\n",
    "    val_loader = DataLoader(val_set, batch_size=BATCH_SZ, shuffle=True)\n",
    "    test_loader = DataLoader(test_set, batch_size=BATCH_SZ, shuffle=True)\n",
    "\n",
    "    loss_list, acc_list = [], []\n",
    "    val_loss_list, val_acc_list = [], []\n",
    "\n",
    "    t0 = time.time()\n",
    "    for epoch in range(1,NE+1):\n",
    "\n",
    "        # training -- with knowledge distillation\n",
    "        if teacher_model:\n",
    "            loss, acc = train_with_distillation(model, teacher_model, \"fcnn\",\n",
    "                                                train_loader, criterion, optimizer, \n",
    "                                                device, alpha=alpha, temperature=temp)\n",
    "            \n",
    "        # training -- without knowledge distillation\n",
    "        else:\n",
    "            loss, acc = run_model(model, \"fcnn\", device, train_loader, criterion, optimizer=optimizer, train=True)\n",
    "\n",
    "        loss_list.append(loss)\n",
    "        acc_list.append(acc)\n",
    "\n",
    "        # validation\n",
    "        val_loss, val_acc, _, _ = run_model(model, \"fcnn\", device, val_loader, criterion, train=False)\n",
    "        val_loss_list.append(val_loss)\n",
    "        val_acc_list.append(val_acc)\n",
    "\n",
    "        if epoch%5 == 0:\n",
    "            print(f\"E {epoch:02d} -- Train loss: {loss:.3f} -- Train acc: {acc:.3f} -- \"\\\n",
    "                + f\"Val loss: {val_loss:.3f} -- Val acc: {val_acc:.3f} -- t elapsed: {time_elapsed(t0,time.time())} mins\"\n",
    "        )\n",
    "            \n",
    "    # Testing on unseen data...\n",
    "    inf_t0 = time.time()\n",
    "    test_loss, test_acc, fpr, tpr = run_model(\n",
    "        model, \"fcnn\", device, test_loader, criterion, train=False,\n",
    "        )\n",
    "    print(f\"Inference time on test set containing {int(len(test_loader)*BATCH_SZ)} elements:\", time.time()-inf_t0, \"sec.\")\n",
    "    \n",
    "\n",
    "    # And finally plot the confusion matrix if desired\n",
    "    if plot_confusion:\n",
    "\n",
    "        true = []\n",
    "        pred = []\n",
    "        for d, l, w in test_set:\n",
    "            d = d.unsqueeze(0)\n",
    "            true.append(l.item())\n",
    "            p = np.argmax(model(d.to(device)).cpu().detach().numpy())\n",
    "            pred.append(p)\n",
    "\n",
    "        plot_confusion_matrices(true, pred, \"\")\n",
    "            \n",
    "    return loss_list, acc_list, val_loss_list, val_acc_list, test_loss, test_acc, fpr, tpr"
   ]
  },
  {
   "cell_type": "code",
   "execution_count": 10,
   "metadata": {},
   "outputs": [
    {
     "name": "stdout",
     "output_type": "stream",
     "text": [
      "Device: cuda \n",
      "\n",
      "E 05 -- Train loss: 0.563 -- Train acc: 0.722 -- Val loss: 0.515 -- Val acc: 0.758 -- t elapsed: 4.44 mins\n",
      "E 10 -- Train loss: 0.499 -- Train acc: 0.760 -- Val loss: 0.465 -- Val acc: 0.782 -- t elapsed: 8.86 mins\n",
      "E 15 -- Train loss: 0.467 -- Train acc: 0.778 -- Val loss: 0.443 -- Val acc: 0.796 -- t elapsed: 13.28 mins\n",
      "E 20 -- Train loss: 0.448 -- Train acc: 0.789 -- Val loss: 0.430 -- Val acc: 0.801 -- t elapsed: 17.69 mins\n",
      "E 25 -- Train loss: 0.435 -- Train acc: 0.797 -- Val loss: 0.421 -- Val acc: 0.808 -- t elapsed: 22.12 mins\n",
      "E 30 -- Train loss: 0.424 -- Train acc: 0.803 -- Val loss: 0.414 -- Val acc: 0.814 -- t elapsed: 26.54 mins\n",
      "E 35 -- Train loss: 0.416 -- Train acc: 0.808 -- Val loss: 0.405 -- Val acc: 0.816 -- t elapsed: 30.96 mins\n",
      "Inference time on test set containing 75000 elements: 5.923739910125732 sec.\n"
     ]
    }
   ],
   "source": [
    "from model import JetFCNN\n",
    "\n",
    "# model initialization\n",
    "num_features=int(teacher_data.shape[1]*teacher_data.shape[2])\n",
    "teacher_fcnn = JetFCNN(num_features=num_features, num_hidden_layers=NH)\n",
    "\n",
    "# Device configuration\n",
    "device = torch.device(\"cuda\" if torch.cuda.is_available() else \"cpu\")\n",
    "print(\"Device:\",device,\"\\n\")\n",
    "\n",
    "# Train and test the model\n",
    "unpackable1 = training_loop(teacher_fcnn, device, teacher_data, teacher_labels, teacher_weights)\n",
    "\n",
    "# Unpack results\n",
    "teach_trainloss, teach_trainacc, teach_valloss, teach_valacc, teach_testloss, teach_testacc, fpr_teacher, tpr_teacher = unpackable1"
   ]
  },
  {
   "cell_type": "markdown",
   "metadata": {},
   "source": [
    "#### Visualization"
   ]
  },
  {
   "cell_type": "code",
   "execution_count": 11,
   "metadata": {
    "scrolled": false
   },
   "outputs": [
    {
     "name": "stdout",
     "output_type": "stream",
     "text": [
      "Teacher FCNN\n"
     ]
    },
    {
     "data": {
      "image/png": "[encoded data removed]",
      "text/plain": [
       "<Figure size 1000x400 with 2 Axes>"
      ]
     },
     "metadata": {},
     "output_type": "display_data"
    },
    {
     "name": "stdout",
     "output_type": "stream",
     "text": [
      "Final test loss: 0.4047\t Final test acc: 0.8161\n"
     ]
    }
   ],
   "source": [
    "print(\"Teacher FCNN\")\n",
    "\n",
    "plot_loss_and_accuracy(teach_trainloss, teach_valloss, teach_trainacc, teach_valacc, \n",
    "                       # transparent=True,\n",
    "                       # save_path=\"./teacher_fcnn.png\",\n",
    "                       )\n",
    "\n",
    "print(f\"Final test loss: {teach_testloss:.4f}\\t Final test acc: {teach_testacc:.4f}\")"
   ]
  },
  {
   "cell_type": "markdown",
   "metadata": {},
   "source": [
    "### Student Network"
   ]
  },
  {
   "cell_type": "markdown",
   "metadata": {},
   "source": [
    "Next, we want to train our smaller Student model."
   ]
  },
  {
   "cell_type": "code",
   "execution_count": null,
   "metadata": {},
   "outputs": [],
   "source": [
    "# model initialization\n",
    "student_no_distill = JetFCNN(num_features=num_features, num_hidden_layers=STUDENT_NH).to(device)\n",
    "\n",
    "# Run the training loop\n",
    "unpackable2 = training_loop(student_no_distill, device, student_data, student_labels, student_weights)\n",
    "\n",
    "# Unpack the results\n",
    "stu_trainloss, stu_trainacc, stu_valloss, stu_valacc, stu_testloss, stu_testacc, fpr_student, tpr_student = unpackable2"
   ]
  },
  {
   "cell_type": "code",
   "execution_count": null,
   "metadata": {},
   "outputs": [],
   "source": [
    "print(\"Student FCNN without knowledge distillation\")\n",
    "\n",
    "plot_loss_and_accuracy(stu_trainloss, stu_valloss, stu_trainacc, stu_valacc,\n",
    "                       # transparent=True,\n",
    "                       # save_path=\"./student_fcnn_nodistill.png\",\n",
    "                       )\n",
    "print(f\"Final test loss: {stu_testloss:.4f}\\t Final test acc: {stu_testacc:.4f}\")"
   ]
  },
  {
   "cell_type": "markdown",
   "metadata": {},
   "source": [
    "We see that the results are a bit worse with the diffused data. Now, it overfits because the data is too confusing! Let's see if some transfer of knowledge can help..."
   ]
  },
  {
   "cell_type": "markdown",
   "metadata": {},
   "source": [
    "### Transfer Learning from the Teacher to the Student FCNN"
   ]
  },
  {
   "cell_type": "code",
   "execution_count": null,
   "metadata": {},
   "outputs": [],
   "source": [
    "# model initialization\n",
    "student_fcnn = JetFCNN(num_features=num_features, num_hidden_layers=STUDENT_NH).to(device)\n",
    "\n",
    "# run the training loop\n",
    "unpackable3 = training_loop(student_fcnn, device, student_data, student_labels, student_weights, teacher_model=teacher_fcnn, \n",
    "#                             alpha=0.5, temp=3,\n",
    "                           )\n",
    "\n",
    "# unpack results\n",
    "dist_trainloss, dist_trainacc, dist_valloss, dist_valacc, dist_testloss, dist_testacc, fpr_distill, tpr_distill = unpackable3"
   ]
  },
  {
   "cell_type": "code",
   "execution_count": null,
   "metadata": {},
   "outputs": [],
   "source": [
    "print(\"Student FCNN with knowledge distillation\")\n",
    "\n",
    "plot_loss_and_accuracy(dist_trainloss, dist_valloss, dist_trainacc, dist_valacc,\n",
    "                       # transparent=True,\n",
    "                       # save_path=\"./student_fcnn_withdistill.png\",\n",
    "                       )\n",
    "\n",
    "print(f\"Final test loss: {dist_testloss:.4f}\\t Final test acc: {dist_testacc:.4f}\")"
   ]
  },
  {
   "cell_type": "markdown",
   "metadata": {},
   "source": [
    "### ROC Curve Visualized\n",
    "\n",
    "Finally, we visualize the Receiver Operating Characteristic Curve for...\n",
    "\n",
    "1. Teacher trained on HQ data\n",
    "2. Student trained on LQ data without distillation\n",
    "3. Student trained on LQ data with distillation"
   ]
  },
  {
   "cell_type": "code",
   "execution_count": null,
   "metadata": {
    "scrolled": false
   },
   "outputs": [],
   "source": [
    "plot_roc(fpr_teacher, tpr_teacher, fpr_student, tpr_student, fpr_distill, tpr_distill, model_name=\"FCNN\",\n",
    "         transparent=False,\n",
    "         save_path=\"./FCNN_ROC_small.png\"\n",
    "         )\n",
    "\n",
    "plot_roc(fpr_teacher, tpr_teacher, fpr_student, tpr_student, fpr_distill, tpr_distill, model_name=\"FCNN\",\n",
    "         transparent=True,\n",
    "         save_path=\"./FCNN_ROC_small_transparent.png\"\n",
    "         )"
   ]
  },
  {
   "cell_type": "code",
   "execution_count": null,
   "metadata": {},
   "outputs": [],
   "source": [
    "# Check out what hardware we're running on\n",
    "!nvidia-smi"
   ]
  }
 ],
 "metadata": {
  "kernelspec": {
   "display_name": "research",
   "language": "python",
   "name": "research"
  },
  "language_info": {
   "codemirror_mode": {
    "name": "ipython",
    "version": 3
   },
   "file_extension": ".py",
   "mimetype": "text/x-python",
   "name": "python",
   "nbconvert_exporter": "python",
   "pygments_lexer": "ipython3",
   "version": "3.11.5"
  }
 },
 "nbformat": 4,
 "nbformat_minor": 2
}
